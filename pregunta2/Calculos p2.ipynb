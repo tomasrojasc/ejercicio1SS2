{
 "cells": [
  {
   "cell_type": "code",
   "execution_count": 1,
   "metadata": {
    "ExecuteTime": {
     "end_time": "2020-04-29T19:32:11.312569Z",
     "start_time": "2020-04-29T19:32:08.460674Z"
    }
   },
   "outputs": [],
   "source": [
    "import numpy as np\n",
    "from sympy import *\n",
    "init_printing()\n",
    "t = symbols('t')"
   ]
  },
  {
   "cell_type": "markdown",
   "metadata": {},
   "source": [
    "# Parte2"
   ]
  },
  {
   "cell_type": "code",
   "execution_count": 2,
   "metadata": {
    "ExecuteTime": {
     "end_time": "2020-04-29T19:32:11.375482Z",
     "start_time": "2020-04-29T19:32:11.324831Z"
    }
   },
   "outputs": [],
   "source": [
    "#primero definimos nuestras variables dadas\n",
    "\n",
    "T = Matrix([[1,  1,  1],\n",
    "            [1, -3,  2],\n",
    "            [1,  9,  4]])\n",
    "\n",
    "\n",
    "TmenosUno = T.inv()\n",
    "\n",
    "A = Matrix([[0,  1, 0],\n",
    "            [0,  0, 1],\n",
    "            [-6, 7, 0]])\n",
    "\n",
    "B = Matrix([[0],\n",
    "            [0],\n",
    "            [2]])\n",
    "\n",
    "C = Matrix([1, 0, 0]).T\n",
    "\n",
    "x_0 = Matrix([[1],\n",
    "              [0],\n",
    "              [1]])\n"
   ]
  },
  {
   "cell_type": "code",
   "execution_count": 3,
   "metadata": {
    "ExecuteTime": {
     "end_time": "2020-04-29T19:32:11.418423Z",
     "start_time": "2020-04-29T19:32:11.384536Z"
    }
   },
   "outputs": [],
   "source": [
    "# Obtenemos las transformaciones para ir al espacio canónico\n",
    "\n",
    "A_p = TmenosUno * A * T\n",
    "B_p = TmenosUno * B\n",
    "C_p = C * T\n",
    "z_0 = TmenosUno * x_0"
   ]
  },
  {
   "cell_type": "code",
   "execution_count": 4,
   "metadata": {
    "ExecuteTime": {
     "end_time": "2020-04-29T19:32:11.464884Z",
     "start_time": "2020-04-29T19:32:11.423253Z"
    }
   },
   "outputs": [],
   "source": [
    "exp_Jordan = Matrix([[exp(t),         0,        0],\n",
    "                     [     0, exp(-3*t),        0],\n",
    "                     [     0,         0, exp(2*t)]])\n"
   ]
  },
  {
   "cell_type": "code",
   "execution_count": 5,
   "metadata": {
    "ExecuteTime": {
     "end_time": "2020-04-29T19:32:12.562083Z",
     "start_time": "2020-04-29T19:32:11.478724Z"
    }
   },
   "outputs": [
    {
     "data": {
      "image/png": "[encoded data removed]",
      "text/latex": [
       "$$\\left[\\begin{matrix}\\frac{5 e^{t}}{4}\\\\\\frac{3 e^{- 3 t}}{20}\\\\- \\frac{2 e^{2 t}}{5}\\end{matrix}\\right]$$"
      ],
      "text/plain": [
       "⎡     t  ⎤\n",
       "⎢  5⋅ℯ   ⎥\n",
       "⎢  ────  ⎥\n",
       "⎢   4    ⎥\n",
       "⎢        ⎥\n",
       "⎢   -3⋅t ⎥\n",
       "⎢3⋅ℯ     ⎥\n",
       "⎢─────── ⎥\n",
       "⎢   20   ⎥\n",
       "⎢        ⎥\n",
       "⎢    2⋅t ⎥\n",
       "⎢-2⋅ℯ    ⎥\n",
       "⎢────────⎥\n",
       "⎣   5    ⎦"
      ]
     },
     "execution_count": 5,
     "metadata": {},
     "output_type": "execute_result"
    }
   ],
   "source": [
    "# parte homogenea en Jordan\n",
    "homogenea_J = exp_Jordan * z_0\n",
    "homogenea_J"
   ]
  },
  {
   "cell_type": "markdown",
   "metadata": {},
   "source": [
    "Para las integrales de $e^{\\hat{A}t}\\hat{B}*2u(t)$ vamos a encontrar eso a mano"
   ]
  },
  {
   "cell_type": "code",
   "execution_count": 6,
   "metadata": {
    "ExecuteTime": {
     "end_time": "2020-04-29T19:32:13.778834Z",
     "start_time": "2020-04-29T19:32:12.567801Z"
    }
   },
   "outputs": [
    {
     "data": {
      "image/png": "[encoded data removed]",
      "text/latex": [
       "$$\\left[\\begin{matrix}\\frac{e^{t}}{4} + 1\\\\\\frac{1}{15} + \\frac{e^{- 3 t}}{12}\\\\- \\frac{2}{5}\\end{matrix}\\right]$$"
      ],
      "text/plain": [
       "⎡   t      ⎤\n",
       "⎢  ℯ       ⎥\n",
       "⎢  ── + 1  ⎥\n",
       "⎢  4       ⎥\n",
       "⎢          ⎥\n",
       "⎢      -3⋅t⎥\n",
       "⎢1    ℯ    ⎥\n",
       "⎢── + ─────⎥\n",
       "⎢15     12 ⎥\n",
       "⎢          ⎥\n",
       "⎣   -2/5   ⎦"
      ]
     },
     "execution_count": 6,
     "metadata": {},
     "output_type": "execute_result"
    }
   ],
   "source": [
    "# respuesta a la entrada de 2u(t) sin la homogénea\n",
    "\n",
    "particular_J = Matrix([[1-exp(t)],\n",
    "                       [Rational('1/15')*(1-exp(-3*t))],\n",
    "                       [-Rational('2/5')*(1-exp(2*t))]])\n",
    "\n",
    "# solución completa para la entrada 2u(t)\n",
    "\n",
    "solucion_J_2u = homogenea_J + particular_J\n",
    "solucion_J_2u"
   ]
  },
  {
   "cell_type": "code",
   "execution_count": 7,
   "metadata": {
    "ExecuteTime": {
     "end_time": "2020-04-29T19:32:14.947124Z",
     "start_time": "2020-04-29T19:32:13.788174Z"
    },
    "scrolled": true
   },
   "outputs": [
    {
     "data": {
      "image/png": "[encoded data removed]",
      "text/latex": [
       "$$\\left[\\begin{matrix}\\frac{e^{t}}{4} + \\frac{2}{3} + \\frac{e^{- 3 t}}{12}\\\\\\frac{e^{t}}{4} - \\frac{e^{- 3 t}}{4}\\\\\\frac{e^{t}}{4} + \\frac{3 e^{- 3 t}}{4}\\end{matrix}\\right]$$"
      ],
      "text/plain": [
       "⎡ t        -3⋅t⎤\n",
       "⎢ℯ    2   ℯ    ⎥\n",
       "⎢── + ─ + ─────⎥\n",
       "⎢4    3     12 ⎥\n",
       "⎢              ⎥\n",
       "⎢   t    -3⋅t  ⎥\n",
       "⎢  ℯ    ℯ      ⎥\n",
       "⎢  ── - ─────  ⎥\n",
       "⎢  4      4    ⎥\n",
       "⎢              ⎥\n",
       "⎢  t      -3⋅t ⎥\n",
       "⎢ ℯ    3⋅ℯ     ⎥\n",
       "⎢ ── + ─────── ⎥\n",
       "⎣ 4       4    ⎦"
      ]
     },
     "execution_count": 7,
     "metadata": {},
     "output_type": "execute_result"
    }
   ],
   "source": [
    "# solución en el espacio original\n",
    "solucion_X_2u = T * solucion_J_2u\n",
    "solucion_X_2u"
   ]
  },
  {
   "cell_type": "code",
   "execution_count": 8,
   "metadata": {
    "ExecuteTime": {
     "end_time": "2020-04-29T19:32:16.447009Z",
     "start_time": "2020-04-29T19:32:14.958678Z"
    }
   },
   "outputs": [
    {
     "data": {
      "image/png": "[encoded data removed]",
      "text/latex": [
       "$$\\left[\\begin{matrix}\\frac{e^{t}}{4} + \\frac{2}{3} + \\frac{e^{- 3 t}}{12}\\end{matrix}\\right]$$"
      ],
      "text/plain": [
       "⎡ t        -3⋅t⎤\n",
       "⎢ℯ    2   ℯ    ⎥\n",
       "⎢── + ─ + ─────⎥\n",
       "⎣4    3     12 ⎦"
      ]
     },
     "execution_count": 8,
     "metadata": {},
     "output_type": "execute_result"
    }
   ],
   "source": [
    "# expresión para la salida \n",
    "salida_Y_2u = C * solucion_X_2u\n",
    "salida_Y_2u"
   ]
  },
  {
   "cell_type": "code",
   "execution_count": 9,
   "metadata": {
    "ExecuteTime": {
     "end_time": "2020-04-29T19:32:17.798304Z",
     "start_time": "2020-04-29T19:32:16.454009Z"
    }
   },
   "outputs": [
    {
     "data": {
      "image/png": "[encoded data removed]",
      "text/latex": [
       "$$\\left[\\begin{matrix}- \\frac{3 e^{2 t}}{5} + \\frac{3 e^{t}}{2} + \\frac{e^{- 3 t}}{10} & \\frac{2 e^{2 t}}{5} - \\frac{e^{t}}{4} - \\frac{3 e^{- 3 t}}{20} & \\frac{e^{2 t}}{5} - \\frac{e^{t}}{4} + \\frac{e^{- 3 t}}{20}\\\\- \\frac{6 e^{2 t}}{5} + \\frac{3 e^{t}}{2} - \\frac{3 e^{- 3 t}}{10} & \\frac{4 e^{2 t}}{5} - \\frac{e^{t}}{4} + \\frac{9 e^{- 3 t}}{20} & \\frac{2 e^{2 t}}{5} - \\frac{e^{t}}{4} - \\frac{3 e^{- 3 t}}{20}\\\\- \\frac{12 e^{2 t}}{5} + \\frac{3 e^{t}}{2} + \\frac{9 e^{- 3 t}}{10} & \\frac{8 e^{2 t}}{5} - \\frac{e^{t}}{4} - \\frac{27 e^{- 3 t}}{20} & \\frac{4 e^{2 t}}{5} - \\frac{e^{t}}{4} + \\frac{9 e^{- 3 t}}{20}\\end{matrix}\\right]$$"
      ],
      "text/plain": [
       "⎡      2⋅t      t    -3⋅t       2⋅t    t      -3⋅t      2⋅t    t    -3⋅t  ⎤\n",
       "⎢   3⋅ℯ      3⋅ℯ    ℯ        2⋅ℯ      ℯ    3⋅ℯ         ℯ      ℯ    ℯ      ⎥\n",
       "⎢ - ────── + ──── + ─────    ────── - ── - ───────     ──── - ── + ─────  ⎥\n",
       "⎢     5       2       10       5      4       20        5     4      20   ⎥\n",
       "⎢                                                                         ⎥\n",
       "⎢     2⋅t      t      -3⋅t      2⋅t    t      -3⋅t      2⋅t    t      -3⋅t⎥\n",
       "⎢  6⋅ℯ      3⋅ℯ    3⋅ℯ       4⋅ℯ      ℯ    9⋅ℯ       2⋅ℯ      ℯ    3⋅ℯ    ⎥\n",
       "⎢- ────── + ──── - ───────   ────── - ── + ───────   ────── - ── - ───────⎥\n",
       "⎢    5       2        10       5      4       20       5      4       20  ⎥\n",
       "⎢                                                                         ⎥\n",
       "⎢      2⋅t      t      -3⋅t     2⋅t    t       -3⋅t     2⋅t    t      -3⋅t⎥\n",
       "⎢  12⋅ℯ      3⋅ℯ    9⋅ℯ      8⋅ℯ      ℯ    27⋅ℯ      4⋅ℯ      ℯ    9⋅ℯ    ⎥\n",
       "⎢- ─────── + ──── + ───────  ────── - ── - ────────  ────── - ── + ───────⎥\n",
       "⎣     5       2        10      5      4       20       5      4       20  ⎦"
      ]
     },
     "execution_count": 9,
     "metadata": {},
     "output_type": "execute_result"
    }
   ],
   "source": [
    "# matriz de transición en el espacio original\n",
    "transicion_X = Matrix(T) * Matrix(exp_Jordan) * Matrix(TmenosUno)\n",
    "transicion_X"
   ]
  },
  {
   "cell_type": "code",
   "execution_count": 10,
   "metadata": {
    "ExecuteTime": {
     "end_time": "2020-04-29T19:32:19.120197Z",
     "start_time": "2020-04-29T19:32:17.812480Z"
    }
   },
   "outputs": [
    {
     "data": {
      "image/png": "[encoded data removed]",
      "text/latex": [
       "$$\\left[\\begin{matrix}\\frac{3 e^{t}}{4}\\\\\\frac{e^{- 3 t}}{4}\\\\0\\end{matrix}\\right]$$"
      ],
      "text/plain": [
       "⎡   t ⎤\n",
       "⎢3⋅ℯ  ⎥\n",
       "⎢──── ⎥\n",
       "⎢ 4   ⎥\n",
       "⎢     ⎥\n",
       "⎢ -3⋅t⎥\n",
       "⎢ℯ    ⎥\n",
       "⎢─────⎥\n",
       "⎢  4  ⎥\n",
       "⎢     ⎥\n",
       "⎣  0  ⎦"
      ]
     },
     "execution_count": 10,
     "metadata": {},
     "output_type": "execute_result"
    }
   ],
   "source": [
    "# respuesta al impulso en base canónica\n",
    "respuesta_impulso_J = exp_Jordan * (z_0 + B_p)\n",
    "respuesta_impulso_J"
   ]
  },
  {
   "cell_type": "code",
   "execution_count": 11,
   "metadata": {
    "ExecuteTime": {
     "end_time": "2020-04-29T19:32:20.330623Z",
     "start_time": "2020-04-29T19:32:19.134967Z"
    }
   },
   "outputs": [
    {
     "data": {
      "image/png": "[encoded data removed]",
      "text/latex": [
       "$$\\left[\\begin{matrix}\\frac{3 e^{t}}{4} + \\frac{e^{- 3 t}}{4}\\\\\\frac{3 e^{t}}{4} - \\frac{3 e^{- 3 t}}{4}\\\\\\frac{3 e^{t}}{4} + \\frac{9 e^{- 3 t}}{4}\\end{matrix}\\right]$$"
      ],
      "text/plain": [
       "⎡    t    -3⋅t ⎤\n",
       "⎢ 3⋅ℯ    ℯ     ⎥\n",
       "⎢ ──── + ───── ⎥\n",
       "⎢  4       4   ⎥\n",
       "⎢              ⎥\n",
       "⎢   t      -3⋅t⎥\n",
       "⎢3⋅ℯ    3⋅ℯ    ⎥\n",
       "⎢──── - ───────⎥\n",
       "⎢ 4        4   ⎥\n",
       "⎢              ⎥\n",
       "⎢   t      -3⋅t⎥\n",
       "⎢3⋅ℯ    9⋅ℯ    ⎥\n",
       "⎢──── + ───────⎥\n",
       "⎣ 4        4   ⎦"
      ]
     },
     "execution_count": 11,
     "metadata": {},
     "output_type": "execute_result"
    }
   ],
   "source": [
    "# respuesta al impulso en el espacio original\n",
    "respuesta_impulso_X = T * respuesta_impulso_J\n",
    "respuesta_impulso_X"
   ]
  },
  {
   "cell_type": "code",
   "execution_count": 12,
   "metadata": {
    "ExecuteTime": {
     "end_time": "2020-04-29T19:32:21.545767Z",
     "start_time": "2020-04-29T19:32:20.338042Z"
    }
   },
   "outputs": [
    {
     "data": {
      "image/png": "[encoded data removed]",
      "text/latex": [
       "$$\\left[\\begin{matrix}- \\frac{2 e^{2 t}}{5} + \\frac{5 e^{t}}{4} + \\frac{3 e^{- 3 t}}{20}\\\\- \\frac{4 e^{2 t}}{5} + \\frac{5 e^{t}}{4} - \\frac{9 e^{- 3 t}}{20}\\\\- \\frac{8 e^{2 t}}{5} + \\frac{5 e^{t}}{4} + \\frac{27 e^{- 3 t}}{20}\\end{matrix}\\right]$$"
      ],
      "text/plain": [
       "⎡     2⋅t      t      -3⋅t ⎤\n",
       "⎢  2⋅ℯ      5⋅ℯ    3⋅ℯ     ⎥\n",
       "⎢- ────── + ──── + ─────── ⎥\n",
       "⎢    5       4        20   ⎥\n",
       "⎢                          ⎥\n",
       "⎢     2⋅t      t      -3⋅t ⎥\n",
       "⎢  4⋅ℯ      5⋅ℯ    9⋅ℯ     ⎥\n",
       "⎢- ────── + ──── - ─────── ⎥\n",
       "⎢    5       4        20   ⎥\n",
       "⎢                          ⎥\n",
       "⎢     2⋅t      t       -3⋅t⎥\n",
       "⎢  8⋅ℯ      5⋅ℯ    27⋅ℯ    ⎥\n",
       "⎢- ────── + ──── + ────────⎥\n",
       "⎣    5       4        20   ⎦"
      ]
     },
     "execution_count": 12,
     "metadata": {},
     "output_type": "execute_result"
    }
   ],
   "source": [
    "# respuesta entrada cero en coord originales\n",
    "RENC_X = T * exp_Jordan * z_0\n",
    "RENC_X"
   ]
  },
  {
   "cell_type": "markdown",
   "metadata": {},
   "source": [
    "## parte 2b"
   ]
  },
  {
   "cell_type": "code",
   "execution_count": 13,
   "metadata": {
    "ExecuteTime": {
     "end_time": "2020-04-29T19:32:23.316536Z",
     "start_time": "2020-04-29T19:32:21.551505Z"
    }
   },
   "outputs": [
    {
     "data": {
      "image/png": "[encoded data removed]",
      "text/latex": [
       "$$\\left ( \\left[\\begin{matrix}0\\\\0\\\\2\\end{matrix}\\right], \\quad \\left[\\begin{matrix}0\\\\2\\\\0\\end{matrix}\\right], \\quad \\left[\\begin{matrix}2\\\\0\\\\14\\end{matrix}\\right]\\right )$$"
      ],
      "text/plain": [
       "⎛⎡0⎤  ⎡0⎤  ⎡2 ⎤⎞\n",
       "⎜⎢ ⎥  ⎢ ⎥  ⎢  ⎥⎟\n",
       "⎜⎢0⎥, ⎢2⎥, ⎢0 ⎥⎟\n",
       "⎜⎢ ⎥  ⎢ ⎥  ⎢  ⎥⎟\n",
       "⎝⎣2⎦  ⎣0⎦  ⎣14⎦⎠"
      ]
     },
     "execution_count": 13,
     "metadata": {},
     "output_type": "execute_result"
    }
   ],
   "source": [
    "B, A*B, A ** 2 * B"
   ]
  },
  {
   "cell_type": "markdown",
   "metadata": {
    "ExecuteTime": {
     "end_time": "2020-04-29T18:18:27.947402Z",
     "start_time": "2020-04-29T18:18:27.940789Z"
    }
   },
   "source": [
    "## Parte 2c"
   ]
  },
  {
   "cell_type": "code",
   "execution_count": 14,
   "metadata": {
    "ExecuteTime": {
     "end_time": "2020-04-29T19:32:24.690022Z",
     "start_time": "2020-04-29T19:32:23.321937Z"
    }
   },
   "outputs": [
    {
     "data": {
      "image/png": "[encoded data removed]",
      "text/latex": [
       "$$\\left ( \\left[\\begin{matrix}1 & 0 & 0\\end{matrix}\\right], \\quad \\left[\\begin{matrix}0 & 1 & 0\\end{matrix}\\right], \\quad \\left[\\begin{matrix}0 & 0 & 1\\end{matrix}\\right]\\right )$$"
      ],
      "text/plain": [
       "([1  0  0], [0  1  0], [0  0  1])"
      ]
     },
     "execution_count": 14,
     "metadata": {},
     "output_type": "execute_result"
    }
   ],
   "source": [
    "C, C * A, C * A ** 2"
   ]
  },
  {
   "cell_type": "code",
   "execution_count": 15,
   "metadata": {
    "ExecuteTime": {
     "end_time": "2020-04-29T19:32:26.172455Z",
     "start_time": "2020-04-29T19:32:24.702010Z"
    }
   },
   "outputs": [
    {
     "data": {
      "image/png": "[encoded data removed]",
      "text/latex": [
       "$$- 7 L_{1} + L_{2} \\lambda + L_{3} + \\lambda^{2} \\left(L_{1} + \\lambda\\right) - 7 \\lambda + 6$$"
      ],
      "text/plain": [
       "                                 2                               \n",
       "-7⋅L₁ + L₂⋅\\lambda + L₃ + \\lambda ⋅(L₁ + \\lambda) - 7⋅\\lambda + 6"
      ]
     },
     "execution_count": 15,
     "metadata": {},
     "output_type": "execute_result"
    }
   ],
   "source": [
    "I = Matrix([[1, 0, 0],\n",
    "            [0, 1, 0],\n",
    "            [0, 0, 1]])\n",
    "\n",
    "l = symbols('\\lambda')\n",
    "\n",
    "l1, l2, l3 = symbols(\"L_1 L_2 L_3\")\n",
    "\n",
    "L = Matrix([l1, l2, l3])\n",
    "\n",
    "det(l*I-(A.T - C.T * L.T))"
   ]
  },
  {
   "cell_type": "code",
   "execution_count": null,
   "metadata": {},
   "outputs": [],
   "source": []
  }
 ],
 "metadata": {
  "kernelspec": {
   "display_name": "Python 3",
   "language": "python",
   "name": "python3"
  },
  "language_info": {
   "codemirror_mode": {
    "name": "ipython",
    "version": 3
   },
   "file_extension": ".py",
   "mimetype": "text/x-python",
   "name": "python",
   "nbconvert_exporter": "python",
   "pygments_lexer": "ipython3",
   "version": "3.6.5"
  },
  "toc": {
   "base_numbering": 1,
   "nav_menu": {},
   "number_sections": true,
   "sideBar": true,
   "skip_h1_title": false,
   "title_cell": "Table of Contents",
   "title_sidebar": "Contents",
   "toc_cell": false,
   "toc_position": {},
   "toc_section_display": true,
   "toc_window_display": false
  }
 },
 "nbformat": 4,
 "nbformat_minor": 2
}
